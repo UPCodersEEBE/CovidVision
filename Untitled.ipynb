{
 "cells": [
  {
   "cell_type": "code",
   "execution_count": 14,
   "metadata": {},
   "outputs": [],
   "source": [
    "import pygame\n",
    "import time\n",
    "done = False\n",
    "pygame.init() \n",
    "screen = pygame.display.set_mode((1000, 1000))\n",
    "clock = pygame.time.Clock()\n",
    "background_image = pygame.image.load(\"USA MAP.png\").convert()\n",
    "\n",
    "while not done:\n",
    "        background_image = pygame.transform.smoothscale(background_image, (1280,720))\n",
    "        for event in pygame.event.get():\n",
    "                if event.type == pygame.QUIT:\n",
    "                        done = True\n",
    "                        \n",
    "                        \n",
    "#THAT IS ALL WE GON BE PRINTING---------------------------------------------------------------------   \n",
    "\n",
    " \n",
    "        \n",
    "        screen.blit(background_image, [0, 0])\n",
    "        pygame.draw.circle(screen, (0, 130, 0), (150, 150) , 40)\n",
    "        background_image = pygame.transform.smoothscale(background_image, (1280,720))\n",
    "                        \n",
    "        pygame.display.flip()\n",
    "        clock.tick(10)  #velocitat que vols a que vagi es joc, 1 es lent, 100 es rapit\n",
    "        death +=1\n",
    "        #print (death)\n",
    "        if death == 3:\n",
    "            die()\n",
    "            death = 0\n",
    "            \n",
    "#NO TOCAR-----------------------------------------------------------------------------------------------------------------\n",
    "        pygame.display.flip()\n",
    "        clock.tick(10)        \n",
    "pygame.quit()"
   ]
  },
  {
   "cell_type": "code",
   "execution_count": null,
   "metadata": {},
   "outputs": [],
   "source": []
  },
  {
   "cell_type": "code",
   "execution_count": null,
   "metadata": {},
   "outputs": [],
   "source": []
  }
 ],
 "metadata": {
  "kernelspec": {
   "display_name": "Python 3",
   "language": "python",
   "name": "python3"
  },
  "language_info": {
   "codemirror_mode": {
    "name": "ipython",
    "version": 3
   },
   "file_extension": ".py",
   "mimetype": "text/x-python",
   "name": "python",
   "nbconvert_exporter": "python",
   "pygments_lexer": "ipython3",
   "version": "3.6.8"
  }
 },
 "nbformat": 4,
 "nbformat_minor": 4
}
